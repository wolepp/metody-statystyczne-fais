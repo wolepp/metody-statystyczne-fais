{
 "cells": [
  {
   "cell_type": "markdown",
   "metadata": {},
   "source": [
    "# Zestaw 2"
   ]
  },
  {
   "cell_type": "markdown",
   "metadata": {},
   "source": [
    "## Zadanie 1"
   ]
  },
  {
   "cell_type": "code",
   "execution_count": null,
   "metadata": {},
   "outputs": [],
   "source": [
    "import numpy as np"
   ]
  },
  {
   "cell_type": "markdown",
   "metadata": {},
   "source": [
    "Możliwe stany serwera:\n",
    "- _s0_ - 0 zalogowanych\n",
    "- _s1_ - 1 zalogowany\n",
    "- _s2_ - 2 zalogowanych"
   ]
  },
  {
   "cell_type": "code",
   "execution_count": null,
   "metadata": {},
   "outputs": [],
   "source": [
    "p_in = 0.2\n",
    "p_out = 0.5"
   ]
  },
  {
   "cell_type": "code",
   "execution_count": null,
   "metadata": {},
   "outputs": [],
   "source": [
    "p00 = (1-p_in) ** 2\n",
    "p01 = p_in * (1-p_in) * 2\n",
    "p02 = p_in**2\n",
    "p10 = p_out * (1-p_in)\n",
    "p11 = p_in * p_out + (1-p_in) * (1-p_out)\n",
    "p12 = (1-p_out) * p_in\n",
    "p20 = p_out**2\n",
    "p21 = p_out * (1-p_out) * 2\n",
    "p22 = (1-p_out)**2\n",
    "\n",
    "P = np.array([\n",
    "    [p00, p01, p02],\n",
    "    [p10, p11, p12],\n",
    "    [p20, p21, p22]\n",
    "]) \n",
    "assert np.allclose(P.sum(axis=1), 1)\n",
    "P"
   ]
  },
  {
   "cell_type": "markdown",
   "metadata": {},
   "source": [
    "## Zadanie 2"
   ]
  },
  {
   "cell_type": "code",
   "execution_count": 4,
   "metadata": {},
   "outputs": [],
   "source": [
    "from matplotlib import pyplot as plt"
   ]
  },
  {
   "cell_type": "code",
   "execution_count": 5,
   "metadata": {},
   "outputs": [],
   "source": [
    "eps = 1e-05\n",
    "wartosci_z_wykladu = (0.5102, 0.4082, 0.0816)"
   ]
  },
  {
   "cell_type": "code",
   "execution_count": 6,
   "metadata": {},
   "outputs": [
    {
     "name": "stdout",
     "output_type": "stream",
     "text": [
      "11\n"
     ]
    }
   ],
   "source": [
    "Pn_old = P\n",
    "Pn = P @ P\n",
    "n = 2\n",
    "diagonal = [Pn_old.diagonal(), Pn.diagonal()]\n",
    "\n",
    "while not np.all(abs(Pn - Pn_old) < eps):\n",
    "    Pn_old = Pn\n",
    "    Pn = Pn @ P\n",
    "    diagonal.append(Pn.diagonal())\n",
    "    n += 1\n",
    "    \n",
    "n_bar = n\n",
    "print(n_bar)"
   ]
  },
  {
   "cell_type": "code",
   "execution_count": 7,
   "metadata": {},
   "outputs": [
    {
     "data": {
      "image/png": "[encoded data removed]",
      "text/plain": [
       "<Figure size 432x288 with 1 Axes>"
      ]
     },
     "metadata": {
      "needs_background": "light"
     },
     "output_type": "display_data"
    }
   ],
   "source": [
    "plt.figure()\n",
    "plt.title(\"Elementy diagonalne macierzy w funkcji $n$\")\n",
    "plt.plot(diagonal)\n",
    "plt.hlines(wartosci_z_wykladu, 0, n_bar)\n",
    "plt.xlabel(\"n\")\n",
    "plt.legend(['$P_{00}$', '$P_{11}$', '$P_{22}$'])\n",
    "plt.savefig(\"zadanie2.png\", facecolor='white')\n",
    "plt.show()"
   ]
  },
  {
   "cell_type": "code",
   "execution_count": 8,
   "metadata": {},
   "outputs": [
    {
     "data": {
      "text/plain": [
       "True"
      ]
     },
     "execution_count": 8,
     "metadata": {},
     "output_type": "execute_result"
    }
   ],
   "source": [
    "np.allclose(Pn.diagonal(), wartosci_z_wykladu, 0.0005)"
   ]
  },
  {
   "cell_type": "code",
   "execution_count": 9,
   "metadata": {},
   "outputs": [
    {
     "data": {
      "text/plain": [
       "array([ 4.80468189e-06, -3.64093206e-05,  3.33761118e-05])"
      ]
     },
     "execution_count": 9,
     "metadata": {},
     "output_type": "execute_result"
    }
   ],
   "source": [
    "Pn.diagonal() - wartosci_z_wykladu"
   ]
  },
  {
   "cell_type": "markdown",
   "metadata": {},
   "source": [
    "## Zadanie 3"
   ]
  },
  {
   "cell_type": "code",
   "execution_count": 10,
   "metadata": {},
   "outputs": [],
   "source": [
    "from numpy.random import uniform\n",
    "\n",
    "state = 0\n",
    "N = 10**4\n",
    "states = 2\n",
    "end_states = np.zeros(shape=(3,))\n",
    "\n",
    "def next_state(from_state):\n",
    "    u = uniform()\n",
    "    row = P[from_state]\n",
    "    cdf = np.array([np.sum(row[:i+1]) for i in range(len(row))])\n",
    "    return min(np.where(u <= cdf)[0])\n",
    "\n",
    "for from_state in range(states+1):\n",
    "    state = from_state\n",
    "    for _ in range(N):\n",
    "        for n in range(n_bar):\n",
    "            state = next_state(state)\n",
    "        end_states[state] += 1\n"
   ]
  },
  {
   "cell_type": "code",
   "execution_count": 11,
   "metadata": {},
   "outputs": [],
   "source": [
    "end_states = end_states / (N * (states+1))"
   ]
  },
  {
   "cell_type": "code",
   "execution_count": 12,
   "metadata": {},
   "outputs": [
    {
     "data": {
      "text/plain": [
       "array([-0.00023333,  0.00046667, -0.00023333])"
      ]
     },
     "execution_count": 12,
     "metadata": {},
     "output_type": "execute_result"
    }
   ],
   "source": [
    "end_states - wartosci_z_wykladu"
   ]
  },
  {
   "cell_type": "markdown",
   "metadata": {},
   "source": [
    "## Zadanie 4"
   ]
  },
  {
   "cell_type": "code",
   "execution_count": 13,
   "metadata": {},
   "outputs": [],
   "source": [
    "import math\n",
    "def comb(n, k):\n",
    "    if hasattr(math, 'comb'):\n",
    "        return math.comb(n, k)\n",
    "    else:\n",
    "        num = math.factorial(n)\n",
    "        denom = math.factorial(k) * math.factorial(n-k)\n",
    "        return int(num / denom)\n",
    "    \n",
    "def macierz_przejscia(n, p_in, p_out):\n",
    "    P = np.zeros([n+1, n+1])\n",
    "    for i in range(n+1):\n",
    "        for j in range(n+1):\n",
    "            if i < j:\n",
    "                Login = range(j-i, min(j+1, n-i+1))\n",
    "                Logout = range(0, i+1)\n",
    "            else:\n",
    "                Login = range(0, j+1)\n",
    "                Logout = range(i-j, min(i+1, n-j+1))\n",
    "            \n",
    "            Actions = list(zip(Login, Logout))\n",
    "            P[i][j] = sum( [  comb(n-i, a_in)  * p_in**a_in   * (1-p_in)**(n-i-a_in)  \\\n",
    "                            * comb(i,   a_out) * p_out**a_out * (1-p_out)**(i-a_out)  \\\n",
    "                          for (a_in, a_out) in Actions])\n",
    "            \n",
    "    assert np.allclose(P.sum(axis=1), 1)\n",
    "    return P"
   ]
  },
  {
   "cell_type": "code",
   "execution_count": 14,
   "metadata": {},
   "outputs": [],
   "source": [
    "eps = 1e-05"
   ]
  },
  {
   "cell_type": "code",
   "execution_count": 15,
   "metadata": {},
   "outputs": [
    {
     "name": "stdout",
     "output_type": "stream",
     "text": [
      "11\n"
     ]
    }
   ],
   "source": [
    "p_in = 0.2\n",
    "p_out = 0.5\n",
    "users = 100\n",
    "P = macierz_przejscia(users, p_in, p_out)\n",
    "\n",
    "Pn_old = P\n",
    "Pn = P @ P\n",
    "n = 2\n",
    "diagonal = [Pn_old.diagonal(), Pn.diagonal()]\n",
    "\n",
    "while not np.all(abs(Pn - Pn_old) < eps):\n",
    "    Pn_old = Pn\n",
    "    Pn = Pn @ P\n",
    "    diagonal.append(Pn.diagonal())\n",
    "    n += 1\n",
    "    \n",
    "n_bar = n\n",
    "print(n_bar)"
   ]
  },
  {
   "cell_type": "code",
   "execution_count": 16,
   "metadata": {},
   "outputs": [
    {
     "data": {
      "image/png": "[encoded data removed]",
      "text/plain": [
       "<Figure size 432x288 with 1 Axes>"
      ]
     },
     "metadata": {
      "needs_background": "light"
     },
     "output_type": "display_data"
    }
   ],
   "source": [
    "plt.figure()\n",
    "plt.title(\"Elementy diagonalne macierzy w funkcji $n$\")\n",
    "plt.plot(diagonal)\n",
    "plt.xlabel(\"n\")\n",
    "plt.savefig(\"zadanie4.png\", facecolor='white')\n",
    "plt.show()"
   ]
  },
  {
   "cell_type": "code",
   "execution_count": 17,
   "metadata": {},
   "outputs": [
    {
     "data": {
      "text/plain": [
       "True"
      ]
     },
     "execution_count": 17,
     "metadata": {},
     "output_type": "execute_result"
    }
   ],
   "source": [
    "np.allclose(Pn.sum(axis=1), 1)"
   ]
  },
  {
   "cell_type": "markdown",
   "metadata": {},
   "source": [
    "## Zadanie 5"
   ]
  },
  {
   "cell_type": "code",
   "execution_count": 18,
   "metadata": {},
   "outputs": [],
   "source": [
    "N = 10**4\n",
    "states = users\n",
    "end_states = np.zeros(shape=(states+1,))\n",
    "\n",
    "cdf = [0] * len(P[0])\n",
    "for i in range(len(end_states)):\n",
    "    cdf[i] = np.array([np.sum(P[i][:j+1]) for j in range(len(P[0]))])\n",
    "\n",
    "def next_state(from_state):\n",
    "    u = uniform()\n",
    "    row = P[from_state]\n",
    "    return min(np.where(u <= cdf[from_state])[0])\n",
    "\n",
    "for from_state in range(states+1):\n",
    "    state = from_state\n",
    "    for _ in range(N):\n",
    "        for n in range(n_bar):\n",
    "            state = next_state(state)\n",
    "        end_states[state] += 1\n"
   ]
  },
  {
   "cell_type": "code",
   "execution_count": 19,
   "metadata": {},
   "outputs": [],
   "source": [
    "end_states_normalised = end_states / (N * (states+1))"
   ]
  },
  {
   "cell_type": "code",
   "execution_count": 20,
   "metadata": {},
   "outputs": [
    {
     "name": "stdout",
     "output_type": "stream",
     "text": [
      "0.0\n"
     ]
    }
   ],
   "source": [
    "print(end_states_normalised[0])"
   ]
  },
  {
   "cell_type": "code",
   "execution_count": 21,
   "metadata": {},
   "outputs": [
    {
     "name": "stdout",
     "output_type": "stream",
     "text": [
      "0.0\n"
     ]
    }
   ],
   "source": [
    "print(end_states_normalised[-1])"
   ]
  },
  {
   "cell_type": "code",
   "execution_count": 25,
   "metadata": {},
   "outputs": [
    {
     "data": {
      "text/plain": [
       "True"
      ]
     },
     "execution_count": 25,
     "metadata": {},
     "output_type": "execute_result"
    }
   ],
   "source": [
    "eps = 0.1\n",
    "np.all([\n",
    "    np.allclose(\n",
    "        end_states_normalised[0],\n",
    "        end_states_normalised[i],\n",
    "        atol=eps)\n",
    "    for i in range(1, 101)\n",
    "])"
   ]
  },
  {
   "cell_type": "code",
   "execution_count": 23,
   "metadata": {},
   "outputs": [
    {
     "data": {
      "text/plain": [
       "1.0"
      ]
     },
     "execution_count": 23,
     "metadata": {},
     "output_type": "execute_result"
    }
   ],
   "source": [
    "end_states_normalised.sum()"
   ]
  },
  {
   "cell_type": "code",
   "execution_count": 24,
   "metadata": {},
   "outputs": [
    {
     "data": {
      "image/png": "[encoded data removed]",
      "text/plain": [
       "<Figure size 432x288 with 1 Axes>"
      ]
     },
     "metadata": {
      "needs_background": "light"
     },
     "output_type": "display_data"
    }
   ],
   "source": [
    "plt.plot(end_states_normalised)\n",
    "plt.xlabel(\"Stan końcowy\")\n",
    "plt.ylabel(\"Prawdopodobieństwo wystąpienia\")\n",
    "plt.title(\"Prawdopodobieństwo wystąpienia danego stanu końcowego\")\n",
    "plt.savefig(\"zadanie5.png\", facecolor='white')\n",
    "plt.show()"
   ]
  }
 ],
 "metadata": {
  "kernelspec": {
   "display_name": "Python 3",
   "language": "python",
   "name": "python3"
  },
  "language_info": {
   "codemirror_mode": {
    "name": "ipython",
    "version": 3
   },
   "file_extension": ".py",
   "mimetype": "text/x-python",
   "name": "python",
   "nbconvert_exporter": "python",
   "pygments_lexer": "ipython3",
   "version": "3.8.5"
  }
 },
 "nbformat": 4,
 "nbformat_minor": 4
}
