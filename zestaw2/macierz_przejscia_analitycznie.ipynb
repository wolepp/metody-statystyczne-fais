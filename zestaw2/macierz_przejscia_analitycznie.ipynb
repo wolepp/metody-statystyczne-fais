{
 "cells": [
  {
   "cell_type": "code",
   "execution_count": 1,
   "metadata": {},
   "outputs": [],
   "source": [
    "import math\n",
    "import numpy as np\n",
    "\n",
    "def comb(n, k):\n",
    "    if hasattr(math, 'comb'):\n",
    "        return math.comb(n, k)\n",
    "    else:\n",
    "        num = math.factorial(n)\n",
    "        denom = math.factorial(k) * math.factorial(n-k)\n",
    "        return int(num / denom)"
   ]
  },
  {
   "cell_type": "code",
   "execution_count": 2,
   "metadata": {},
   "outputs": [],
   "source": [
    "def macierz_przejscia(n, p_in, p_out):\n",
    "    P = np.zeros([n+1, n+1])\n",
    "    for i in range(n+1):\n",
    "        for j in range(n+1):\n",
    "            if i < j:\n",
    "                Login = range(j-i, min(j+1, n-i+1))\n",
    "                Logout = range(0, i+1)\n",
    "            else:\n",
    "                Login = range(0, j+1)\n",
    "                Logout = range(i-j, min(i+1, n-j+1))\n",
    "            \n",
    "            Actions = list(zip(Login, Logout))\n",
    "            P[i][j] = sum( [  comb(n-i, a_in)  * p_in**a_in   * (1-p_in)**(n-i-a_in)  \\\n",
    "                            * comb(i,   a_out) * p_out**a_out * (1-p_out)**(i-a_out)  \\\n",
    "                          for (a_in, a_out) in Actions])\n",
    "            \n",
    "    assert np.allclose(P.sum(axis=1), 1)\n",
    "    return P"
   ]
  },
  {
   "cell_type": "code",
   "execution_count": 4,
   "metadata": {},
   "outputs": [
    {
     "name": "stdout",
     "output_type": "stream",
     "text": [
      "[[0.64 0.32 0.04]\n",
      " [0.4  0.5  0.1 ]\n",
      " [0.25 0.5  0.25]]\n"
     ]
    }
   ],
   "source": [
    "n = 2\n",
    "p_in = 0.2\n",
    "p_out = 0.5\n",
    "      \n",
    "MP = macierz_przejscia(n, p_in, p_out)\n",
    "with np.printoptions(precision=4, suppress=True):\n",
    "    print(MP)"
   ]
  },
  {
   "cell_type": "code",
   "execution_count": null,
   "metadata": {},
   "outputs": [],
   "source": []
  }
 ],
 "metadata": {
  "kernelspec": {
   "display_name": "Python 3",
   "language": "python",
   "name": "python3"
  },
  "language_info": {
   "codemirror_mode": {
    "name": "ipython",
    "version": 3
   },
   "file_extension": ".py",
   "mimetype": "text/x-python",
   "name": "python",
   "nbconvert_exporter": "python",
   "pygments_lexer": "ipython3",
   "version": "3.8.5"
  }
 },
 "nbformat": 4,
 "nbformat_minor": 4
}
